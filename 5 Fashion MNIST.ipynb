{
 "cells": [
  {
   "cell_type": "markdown",
   "id": "4e0e67e2",
   "metadata": {},
   "source": [
    "Reference for more detais: https://colab.research.google.com/drive/1m2cg3D1x3j5vrFc-Cu0gMvc48gWyCOuG#forceEdit=true&sandboxMode=true"
   ]
  },
  {
   "cell_type": "code",
   "execution_count": 1,
   "id": "12781794",
   "metadata": {},
   "outputs": [],
   "source": [
    "import tensorflow as tf\n",
    "from tensorflow import keras\n",
    "\n",
    "import numpy as np\n",
    "import matplotlib.pyplot as plt"
   ]
  },
  {
   "cell_type": "markdown",
   "id": "ed874dfe",
   "metadata": {},
   "source": [
    "The cool thing is keras comes pre installed with datasets. Let us use one of them and work on it right now - Fashion MNIST. This is a good beginner testing data set"
   ]
  },
  {
   "cell_type": "code",
   "execution_count": 2,
   "id": "6950aade",
   "metadata": {},
   "outputs": [],
   "source": [
    "#Load in the data\n",
    "\n",
    "fashion_mnist = keras.datasets.fashion_mnist\n",
    "\n",
    "(train_images, train_labels), (test_images, test_labels) = fashion_mnist = fashion_mnist.load_data()\n",
    "\n",
    "class_names = ['T-shirt/top', 'Trouser', 'Pullover', 'Dress', 'Coat',\n",
    "               'Sandal', 'Shirt', 'Sneaker', 'Bag', 'Ankle boot'] # each match an integer ranging from 0-9"
   ]
  },
  {
   "cell_type": "code",
   "execution_count": 6,
   "id": "6d8f2853",
   "metadata": {},
   "outputs": [
    {
     "name": "stdout",
     "output_type": "stream",
     "text": [
      "(10000, 28, 28)\n"
     ]
    },
    {
     "data": {
      "text/plain": [
       "numpy.ndarray"
      ]
     },
     "execution_count": 6,
     "metadata": {},
     "output_type": "execute_result"
    }
   ],
   "source": [
    "print(test_images.shape) #does not need peraentheses becasue we are accessing an attribute, not a method like .reshape()\n",
    "#the outout will be (# of images, height of the image in pixels, width in pixels)\n",
    "type(train_images) # to check that its of type numpy array"
   ]
  },
  {
   "cell_type": "markdown",
   "id": "769698dd",
   "metadata": {},
   "source": [
    "Our training dataset has 60,000 images, and each image is made of 28x28 pixels (thats 784)"
   ]
  },
  {
   "cell_type": "code",
   "execution_count": 5,
   "id": "74ff266a",
   "metadata": {},
   "outputs": [
    {
     "data": {
      "text/plain": [
       "218"
      ]
     },
     "execution_count": 5,
     "metadata": {},
     "output_type": "execute_result"
    }
   ],
   "source": [
    "train_images[30000,14,14] #the first index is which picture in the 60,000 image dataset, the second two sepcifcy the pixel in that image"
   ]
  },
  {
   "cell_type": "markdown",
   "id": "21ccf403",
   "metadata": {},
   "source": [
    "Each pixel value is in between 0 and 225, 0 is black and 225 is white. No other color channels"
   ]
  },
  {
   "cell_type": "code",
   "execution_count": 6,
   "id": "ac7952ac",
   "metadata": {},
   "outputs": [
    {
     "data": {
      "text/plain": [
       "array([9, 0, 0, 3, 0, 2, 7, 2, 5, 5], dtype=uint8)"
      ]
     },
     "execution_count": 6,
     "metadata": {},
     "output_type": "execute_result"
    }
   ],
   "source": [
    "train_labels[:10]"
   ]
  },
  {
   "cell_type": "markdown",
   "id": "d07feb78",
   "metadata": {},
   "source": [
    "So each of the above integers range from 0-9. These are the labels - essentially what each training image is supposed to be. Let us create an array of label names to indicate which is which"
   ]
  },
  {
   "cell_type": "code",
   "execution_count": 7,
   "id": "e76ff05b",
   "metadata": {},
   "outputs": [
    {
     "data": {
      "text/plain": [
       "<matplotlib.image.AxesImage at 0x295297390>"
      ]
     },
     "execution_count": 7,
     "metadata": {},
     "output_type": "execute_result"
    },
    {
     "data": {
      "image/png": "[encoded data removed]",
      "text/plain": [
       "<Figure size 640x480 with 1 Axes>"
      ]
     },
     "metadata": {},
     "output_type": "display_data"
    }
   ],
   "source": [
    "plt.imshow(train_images[54999]) # This is the 59,999th image in the data set"
   ]
  },
  {
   "cell_type": "markdown",
   "id": "5fb6043e",
   "metadata": {},
   "source": [
    "Data preprocessing is the last step before creating our model. We can do this by just scaling every pixel to be between 0-1 instead of 0-22. This can be done by simply diving all the values by 225"
   ]
  },
  {
   "cell_type": "code",
   "execution_count": 8,
   "id": "5ede9640",
   "metadata": {},
   "outputs": [
    {
     "data": {
      "text/plain": [
       "0.9688888888888889"
      ]
     },
     "execution_count": 8,
     "metadata": {},
     "output_type": "execute_result"
    }
   ],
   "source": [
    "train_images = train_images / 225.0\n",
    "\n",
    "test_images = test_images / 225.0\n",
    "train_images[30000,14,14] #so now this is in between 0-1 just to see as an example"
   ]
  },
  {
   "cell_type": "markdown",
   "id": "d7508e66",
   "metadata": {},
   "source": [
    "Now for the model..."
   ]
  },
  {
   "cell_type": "code",
   "execution_count": 9,
   "id": "3fdb84a7",
   "metadata": {},
   "outputs": [
    {
     "name": "stderr",
     "output_type": "stream",
     "text": [
      "/Users/dev/anaconda3/lib/python3.11/site-packages/keras/src/layers/reshaping/flatten.py:37: UserWarning: Do not pass an `input_shape`/`input_dim` argument to a layer. When using Sequential models, prefer using an `Input(shape)` object as the first layer in the model instead.\n",
      "  super().__init__(**kwargs)\n"
     ]
    }
   ],
   "source": [
    "model = keras.Sequential([ #sequential just refers to the way neural networks move information from left to right passing through the layers\n",
    "    keras.layers.Flatten(input_shape=(28, 28)),  # input layer (1)\n",
    "    keras.layers.Dense(128, activation='relu'),  # hidden layer (2) - dense means every neuron in the previous layer (the one above) is connected to every neuron in the current layer. relu is the activation function (rectifies linear unit), and 128 is the number of neurons\n",
    "    keras.layers.Dense(10, activation='softmax') # output layer (3) - we have 10 output neurons becuase we have 10 differnet classes that we are predicting in the output. Softmax makes sure that all of the values of the neruons adds up to 1 and that each of them are between 0 and 1\n",
    "])"
   ]
  },
  {
   "cell_type": "markdown",
   "id": "4d2adb2d",
   "metadata": {},
   "source": [
    "We just built the architecture of our neural network above, let us now define the loss function, optimizer and metrics we would like to track."
   ]
  },
  {
   "cell_type": "code",
   "execution_count": null,
   "id": "e7e9422f",
   "metadata": {},
   "outputs": [],
   "source": [
    "model.compile(optimizer='adam',\n",
    "              loss='sparse_categorical_crossentropy',\n",
    "              metrics=['accuracy']) "
   ]
  },
  {
   "cell_type": "markdown",
   "id": "d85315c3",
   "metadata": {},
   "source": [
    "Now for the training of the model"
   ]
  },
  {
   "cell_type": "code",
   "execution_count": 11,
   "id": "c658f7c5",
   "metadata": {},
   "outputs": [
    {
     "name": "stdout",
     "output_type": "stream",
     "text": [
      "Epoch 1/10\n",
      "\u001b[1m1875/1875\u001b[0m \u001b[32m━━━━━━━━━━━━━━━━━━━━\u001b[0m\u001b[37m\u001b[0m \u001b[1m2s\u001b[0m 1ms/step - accuracy: 0.7828 - loss: 0.6284\n",
      "Epoch 2/10\n",
      "\u001b[1m1875/1875\u001b[0m \u001b[32m━━━━━━━━━━━━━━━━━━━━\u001b[0m\u001b[37m\u001b[0m \u001b[1m2s\u001b[0m 992us/step - accuracy: 0.8627 - loss: 0.3790\n",
      "Epoch 3/10\n",
      "\u001b[1m1875/1875\u001b[0m \u001b[32m━━━━━━━━━━━━━━━━━━━━\u001b[0m\u001b[37m\u001b[0m \u001b[1m2s\u001b[0m 1ms/step - accuracy: 0.8729 - loss: 0.3464\n",
      "Epoch 4/10\n",
      "\u001b[1m1875/1875\u001b[0m \u001b[32m━━━━━━━━━━━━━━━━━━━━\u001b[0m\u001b[37m\u001b[0m \u001b[1m2s\u001b[0m 1ms/step - accuracy: 0.8844 - loss: 0.3135\n",
      "Epoch 5/10\n",
      "\u001b[1m1875/1875\u001b[0m \u001b[32m━━━━━━━━━━━━━━━━━━━━\u001b[0m\u001b[37m\u001b[0m \u001b[1m2s\u001b[0m 1ms/step - accuracy: 0.8900 - loss: 0.2937\n",
      "Epoch 6/10\n",
      "\u001b[1m1875/1875\u001b[0m \u001b[32m━━━━━━━━━━━━━━━━━━━━\u001b[0m\u001b[37m\u001b[0m \u001b[1m2s\u001b[0m 993us/step - accuracy: 0.8976 - loss: 0.2756\n",
      "Epoch 7/10\n",
      "\u001b[1m1875/1875\u001b[0m \u001b[32m━━━━━━━━━━━━━━━━━━━━\u001b[0m\u001b[37m\u001b[0m \u001b[1m2s\u001b[0m 956us/step - accuracy: 0.9009 - loss: 0.2679\n",
      "Epoch 8/10\n",
      "\u001b[1m1875/1875\u001b[0m \u001b[32m━━━━━━━━━━━━━━━━━━━━\u001b[0m\u001b[37m\u001b[0m \u001b[1m2s\u001b[0m 1ms/step - accuracy: 0.9032 - loss: 0.2552\n",
      "Epoch 9/10\n",
      "\u001b[1m1875/1875\u001b[0m \u001b[32m━━━━━━━━━━━━━━━━━━━━\u001b[0m\u001b[37m\u001b[0m \u001b[1m2s\u001b[0m 1ms/step - accuracy: 0.9056 - loss: 0.2475\n",
      "Epoch 10/10\n",
      "\u001b[1m1875/1875\u001b[0m \u001b[32m━━━━━━━━━━━━━━━━━━━━\u001b[0m\u001b[37m\u001b[0m \u001b[1m3s\u001b[0m 1ms/step - accuracy: 0.9102 - loss: 0.2323\n"
     ]
    },
    {
     "data": {
      "text/plain": [
       "<keras.src.callbacks.history.History at 0x29f23b210>"
      ]
     },
     "execution_count": 11,
     "metadata": {},
     "output_type": "execute_result"
    }
   ],
   "source": [
    "model.fit(train_images, train_labels, epochs=10) #keras automaticall shuffles the data for every epoch"
   ]
  },
  {
   "cell_type": "markdown",
   "id": "e0c99919",
   "metadata": {},
   "source": [
    "So our accuracy in the last epoch came out to be 92%. Amazing!! Hold on - if we want to find out what the true accuracy is , we need to test it on our testing data sets. For our epoch runs, we only used it on the training data sets! Lets test it on something our neural network has never faced!"
   ]
  },
  {
   "cell_type": "code",
   "execution_count": 18,
   "id": "8258c264",
   "metadata": {},
   "outputs": [
    {
     "name": "stdout",
     "output_type": "stream",
     "text": [
      "\u001b[1m313/313\u001b[0m \u001b[32m━━━━━━━━━━━━━━━━━━━━\u001b[0m\u001b[37m\u001b[0m \u001b[1m1s\u001b[0m 822us/step - accuracy: 0.8439 - loss: 69.2656\n"
     ]
    }
   ],
   "source": [
    "test_loss, test_acc = model.evaluate(test_images, test_labels, verbose=1)\n"
   ]
  },
  {
   "cell_type": "markdown",
   "id": "1720b8a8",
   "metadata": {},
   "source": [
    "We have to now make predictions"
   ]
  },
  {
   "cell_type": "code",
   "execution_count": 19,
   "id": "57dbca93",
   "metadata": {},
   "outputs": [
    {
     "name": "stdout",
     "output_type": "stream",
     "text": [
      "\u001b[1m313/313\u001b[0m \u001b[32m━━━━━━━━━━━━━━━━━━━━\u001b[0m\u001b[37m\u001b[0m \u001b[1m0s\u001b[0m 378us/step\n",
      "[[0. 0. 0. ... 0. 0. 1.]\n",
      " [0. 0. 1. ... 0. 0. 0.]\n",
      " [0. 1. 0. ... 0. 0. 0.]\n",
      " ...\n",
      " [0. 0. 0. ... 0. 1. 0.]\n",
      " [0. 1. 0. ... 0. 0. 0.]\n",
      " [0. 0. 0. ... 0. 0. 0.]]\n"
     ]
    }
   ],
   "source": [
    "predictions = model.predict(test_images)\n",
    "print(predictions)"
   ]
  },
  {
   "cell_type": "markdown",
   "id": "6460a6c2",
   "metadata": {},
   "source": [
    "Lets focus on just one of the images out of the 10,000 test images - the first one"
   ]
  },
  {
   "cell_type": "code",
   "execution_count": 20,
   "id": "862e687a",
   "metadata": {},
   "outputs": [
    {
     "name": "stdout",
     "output_type": "stream",
     "text": [
      "[0. 0. 0. 0. 0. 0. 0. 0. 0. 1.]\n"
     ]
    }
   ],
   "source": [
    "print(predictions[0])"
   ]
  },
  {
   "cell_type": "markdown",
   "id": "a0cff183",
   "metadata": {},
   "source": [
    "Basically the above array is telling us the probabilities of each of the labels (the different types of fashion items) that were on the output layer of our neural network. The idea is that the correct label that is being predicted for this first image is the one with the highest probability in that array. So let us find the max value"
   ]
  },
  {
   "cell_type": "code",
   "execution_count": 21,
   "id": "5f4b4f87",
   "metadata": {},
   "outputs": [
    {
     "name": "stdout",
     "output_type": "stream",
     "text": [
      "9\n"
     ]
    }
   ],
   "source": [
    "print(np.argmax(predictions[0]))"
   ]
  },
  {
   "cell_type": "markdown",
   "id": "f9aa2b11",
   "metadata": {},
   "source": [
    "But which label was index 9 you ask?"
   ]
  },
  {
   "cell_type": "code",
   "execution_count": 21,
   "id": "01f2172a",
   "metadata": {},
   "outputs": [
    {
     "name": "stdout",
     "output_type": "stream",
     "text": [
      "Sneaker\n"
     ]
    }
   ],
   "source": [
    "print(class_names[np.argmax(predictions[789])])"
   ]
  },
  {
   "cell_type": "markdown",
   "id": "ee993755",
   "metadata": {},
   "source": [
    "And lets also verify this visually to make sure it really is an ankle boot"
   ]
  },
  {
   "cell_type": "code",
   "execution_count": 22,
   "id": "cbfc4599",
   "metadata": {},
   "outputs": [
    {
     "data": {
      "image/png": "[encoded data removed]",
      "text/plain": [
       "<Figure size 640x480 with 2 Axes>"
      ]
     },
     "metadata": {},
     "output_type": "display_data"
    }
   ],
   "source": [
    "plt.figure()\n",
    "plt.imshow(test_images[789])\n",
    "plt.colorbar()\n",
    "plt.grid(False)\n",
    "plt.show()"
   ]
  },
  {
   "cell_type": "code",
   "execution_count": 1,
   "id": "16f25e5c",
   "metadata": {},
   "outputs": [
    {
     "ename": "NameError",
     "evalue": "name 'plt' is not defined",
     "output_type": "error",
     "traceback": [
      "\u001b[0;31m---------------------------------------------------------------------------\u001b[0m",
      "\u001b[0;31mNameError\u001b[0m                                 Traceback (most recent call last)",
      "Cell \u001b[0;32mIn[1], line 2\u001b[0m\n\u001b[1;32m      1\u001b[0m COLOR \u001b[38;5;241m=\u001b[39m \u001b[38;5;124m'\u001b[39m\u001b[38;5;124mwhite\u001b[39m\u001b[38;5;124m'\u001b[39m\n\u001b[0;32m----> 2\u001b[0m plt\u001b[38;5;241m.\u001b[39mrcParams[\u001b[38;5;124m'\u001b[39m\u001b[38;5;124mtext.color\u001b[39m\u001b[38;5;124m'\u001b[39m] \u001b[38;5;241m=\u001b[39m COLOR\n\u001b[1;32m      3\u001b[0m plt\u001b[38;5;241m.\u001b[39mrcParams[\u001b[38;5;124m'\u001b[39m\u001b[38;5;124maxes.labelcolor\u001b[39m\u001b[38;5;124m'\u001b[39m] \u001b[38;5;241m=\u001b[39m COLOR\n\u001b[1;32m      5\u001b[0m \u001b[38;5;28;01mdef\u001b[39;00m \u001b[38;5;21mpredict\u001b[39m(model, image, correct_label):\n",
      "\u001b[0;31mNameError\u001b[0m: name 'plt' is not defined"
     ]
    }
   ],
   "source": [
    "COLOR = 'white'\n",
    "plt.rcParams['text.color'] = COLOR\n",
    "plt.rcParams['axes.labelcolor'] = COLOR\n",
    "\n",
    "def predict(model, image, correct_label):\n",
    "  class_names = ['T-shirt/top', 'Trouser', 'Pullover', 'Dress', 'Coat',\n",
    "               'Sandal', 'Shirt', 'Sneaker', 'Bag', 'Ankle boot']\n",
    "  prediction = model.predict(np.array([image]))\n",
    "  predicted_class = class_names[np.argmax(prediction)]\n",
    "\n",
    "  show_image(image, class_names[correct_label], predicted_class)\n",
    "\n",
    "\n",
    "def show_image(img, label, guess):\n",
    "  plt.figure()\n",
    "  plt.imshow(img, cmap=plt.cm.binary)\n",
    "  plt.title(\"Excpected: \" + label)\n",
    "  plt.xlabel(\"Guess: \" + guess)\n",
    "  plt.colorbar()\n",
    "  plt.grid(False)\n",
    "  plt.show()\n",
    "  print(\"Excpected: \" + label)\n",
    "  print(\"Guess: \" + guess)\n",
    "\n",
    "\n",
    "def get_number():\n",
    "  while True:\n",
    "    num = input(\"Pick a number: \")\n",
    "    if num.isdigit():\n",
    "      num = int(num)\n",
    "      if 0 <= num <= 1000:\n",
    "        return int(num)\n",
    "    else:\n",
    "      print(\"Try again...\")\n",
    "\n",
    "num = get_number()\n",
    "image = test_images[num]\n",
    "label = test_labels[num]\n",
    "predict(model, image, label)"
   ]
  },
  {
   "cell_type": "code",
   "execution_count": null,
   "id": "3c99b4f5",
   "metadata": {},
   "outputs": [],
   "source": []
  }
 ],
 "metadata": {
  "kernelspec": {
   "display_name": "base",
   "language": "python",
   "name": "python3"
  },
  "language_info": {
   "codemirror_mode": {
    "name": "ipython",
    "version": 3
   },
   "file_extension": ".py",
   "mimetype": "text/x-python",
   "name": "python",
   "nbconvert_exporter": "python",
   "pygments_lexer": "ipython3",
   "version": "3.11.4"
  }
 },
 "nbformat": 4,
 "nbformat_minor": 5
}
