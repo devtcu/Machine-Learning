{
 "cells": [
  {
   "cell_type": "markdown",
   "id": "7f4d67a3",
   "metadata": {},
   "source": [
    "Here I attempt to build a neural network from scratch without using pytorch or tensorflow"
   ]
  },
  {
   "cell_type": "code",
   "execution_count": 2,
   "id": "49583b46",
   "metadata": {},
   "outputs": [],
   "source": [
    "import pandas as pd \n",
    "import numpy as np\n",
    "import matplotlib.pyplot as plt "
   ]
  },
  {
   "cell_type": "code",
   "execution_count": 3,
   "id": "a9f22b18",
   "metadata": {},
   "outputs": [],
   "source": [
    "data = pd.read_csv('mnist_train.csv')\n"
   ]
  },
  {
   "cell_type": "code",
   "execution_count": 4,
   "id": "a2c09383",
   "metadata": {},
   "outputs": [
    {
     "data": {
      "text/html": [
       "<div>\n",
       "<style scoped>\n",
       "    .dataframe tbody tr th:only-of-type {\n",
       "        vertical-align: middle;\n",
       "    }\n",
       "\n",
       "    .dataframe tbody tr th {\n",
       "        vertical-align: top;\n",
       "    }\n",
       "\n",
       "    .dataframe thead th {\n",
       "        text-align: right;\n",
       "    }\n",
       "</style>\n",
       "<table border=\"1\" class=\"dataframe\">\n",
       "  <thead>\n",
       "    <tr style=\"text-align: right;\">\n",
       "      <th></th>\n",
       "      <th>label</th>\n",
       "      <th>1x1</th>\n",
       "      <th>1x2</th>\n",
       "      <th>1x3</th>\n",
       "      <th>1x4</th>\n",
       "      <th>1x5</th>\n",
       "      <th>1x6</th>\n",
       "      <th>1x7</th>\n",
       "      <th>1x8</th>\n",
       "      <th>1x9</th>\n",
       "      <th>...</th>\n",
       "      <th>28x19</th>\n",
       "      <th>28x20</th>\n",
       "      <th>28x21</th>\n",
       "      <th>28x22</th>\n",
       "      <th>28x23</th>\n",
       "      <th>28x24</th>\n",
       "      <th>28x25</th>\n",
       "      <th>28x26</th>\n",
       "      <th>28x27</th>\n",
       "      <th>28x28</th>\n",
       "    </tr>\n",
       "  </thead>\n",
       "  <tbody>\n",
       "    <tr>\n",
       "      <th>0</th>\n",
       "      <td>5</td>\n",
       "      <td>0</td>\n",
       "      <td>0</td>\n",
       "      <td>0</td>\n",
       "      <td>0</td>\n",
       "      <td>0</td>\n",
       "      <td>0</td>\n",
       "      <td>0</td>\n",
       "      <td>0</td>\n",
       "      <td>0</td>\n",
       "      <td>...</td>\n",
       "      <td>0</td>\n",
       "      <td>0</td>\n",
       "      <td>0</td>\n",
       "      <td>0</td>\n",
       "      <td>0</td>\n",
       "      <td>0</td>\n",
       "      <td>0</td>\n",
       "      <td>0</td>\n",
       "      <td>0</td>\n",
       "      <td>0</td>\n",
       "    </tr>\n",
       "    <tr>\n",
       "      <th>1</th>\n",
       "      <td>0</td>\n",
       "      <td>0</td>\n",
       "      <td>0</td>\n",
       "      <td>0</td>\n",
       "      <td>0</td>\n",
       "      <td>0</td>\n",
       "      <td>0</td>\n",
       "      <td>0</td>\n",
       "      <td>0</td>\n",
       "      <td>0</td>\n",
       "      <td>...</td>\n",
       "      <td>0</td>\n",
       "      <td>0</td>\n",
       "      <td>0</td>\n",
       "      <td>0</td>\n",
       "      <td>0</td>\n",
       "      <td>0</td>\n",
       "      <td>0</td>\n",
       "      <td>0</td>\n",
       "      <td>0</td>\n",
       "      <td>0</td>\n",
       "    </tr>\n",
       "    <tr>\n",
       "      <th>2</th>\n",
       "      <td>4</td>\n",
       "      <td>0</td>\n",
       "      <td>0</td>\n",
       "      <td>0</td>\n",
       "      <td>0</td>\n",
       "      <td>0</td>\n",
       "      <td>0</td>\n",
       "      <td>0</td>\n",
       "      <td>0</td>\n",
       "      <td>0</td>\n",
       "      <td>...</td>\n",
       "      <td>0</td>\n",
       "      <td>0</td>\n",
       "      <td>0</td>\n",
       "      <td>0</td>\n",
       "      <td>0</td>\n",
       "      <td>0</td>\n",
       "      <td>0</td>\n",
       "      <td>0</td>\n",
       "      <td>0</td>\n",
       "      <td>0</td>\n",
       "    </tr>\n",
       "    <tr>\n",
       "      <th>3</th>\n",
       "      <td>1</td>\n",
       "      <td>0</td>\n",
       "      <td>0</td>\n",
       "      <td>0</td>\n",
       "      <td>0</td>\n",
       "      <td>0</td>\n",
       "      <td>0</td>\n",
       "      <td>0</td>\n",
       "      <td>0</td>\n",
       "      <td>0</td>\n",
       "      <td>...</td>\n",
       "      <td>0</td>\n",
       "      <td>0</td>\n",
       "      <td>0</td>\n",
       "      <td>0</td>\n",
       "      <td>0</td>\n",
       "      <td>0</td>\n",
       "      <td>0</td>\n",
       "      <td>0</td>\n",
       "      <td>0</td>\n",
       "      <td>0</td>\n",
       "    </tr>\n",
       "    <tr>\n",
       "      <th>4</th>\n",
       "      <td>9</td>\n",
       "      <td>0</td>\n",
       "      <td>0</td>\n",
       "      <td>0</td>\n",
       "      <td>0</td>\n",
       "      <td>0</td>\n",
       "      <td>0</td>\n",
       "      <td>0</td>\n",
       "      <td>0</td>\n",
       "      <td>0</td>\n",
       "      <td>...</td>\n",
       "      <td>0</td>\n",
       "      <td>0</td>\n",
       "      <td>0</td>\n",
       "      <td>0</td>\n",
       "      <td>0</td>\n",
       "      <td>0</td>\n",
       "      <td>0</td>\n",
       "      <td>0</td>\n",
       "      <td>0</td>\n",
       "      <td>0</td>\n",
       "    </tr>\n",
       "  </tbody>\n",
       "</table>\n",
       "<p>5 rows × 785 columns</p>\n",
       "</div>"
      ],
      "text/plain": [
       "   label  1x1  1x2  1x3  1x4  1x5  1x6  1x7  1x8  1x9  ...  28x19  28x20  \\\n",
       "0      5    0    0    0    0    0    0    0    0    0  ...      0      0   \n",
       "1      0    0    0    0    0    0    0    0    0    0  ...      0      0   \n",
       "2      4    0    0    0    0    0    0    0    0    0  ...      0      0   \n",
       "3      1    0    0    0    0    0    0    0    0    0  ...      0      0   \n",
       "4      9    0    0    0    0    0    0    0    0    0  ...      0      0   \n",
       "\n",
       "   28x21  28x22  28x23  28x24  28x25  28x26  28x27  28x28  \n",
       "0      0      0      0      0      0      0      0      0  \n",
       "1      0      0      0      0      0      0      0      0  \n",
       "2      0      0      0      0      0      0      0      0  \n",
       "3      0      0      0      0      0      0      0      0  \n",
       "4      0      0      0      0      0      0      0      0  \n",
       "\n",
       "[5 rows x 785 columns]"
      ]
     },
     "execution_count": 4,
     "metadata": {},
     "output_type": "execute_result"
    }
   ],
   "source": [
    "data.head() #shows preview\n"
   ]
  },
  {
   "cell_type": "markdown",
   "id": "e89eec92",
   "metadata": {},
   "source": [
    "but working with numpy arrays works better so lets do that"
   ]
  },
  {
   "cell_type": "code",
   "execution_count": 5,
   "id": "60fc60fe",
   "metadata": {},
   "outputs": [
    {
     "name": "stdout",
     "output_type": "stream",
     "text": [
      "(60000, 785)\n",
      "0\n"
     ]
    }
   ],
   "source": [
    "data = np.array(data)\n",
    "m, n = data.shape\n",
    "np.random.shuffle(data)\n",
    "\n",
    "print(data.shape) #m is the number of digits examples we have in our dataset and n (or rather n-1, snce 1 coulkmn is for label name) is the number of pixels. For ref, look at the table above \n",
    "\n",
    "print(data[10039, 600]) #test out which image and pixel value you would like to see - here it is the 10039th image and its 600th pixel"
   ]
  },
  {
   "cell_type": "markdown",
   "id": "77c51b19",
   "metadata": {},
   "source": [
    "so our image has a collection 60000 randomized digits(rows) and 785 columns, each entry is a number that represents a pixel (28x28)"
   ]
  },
  {
   "cell_type": "code",
   "execution_count": 6,
   "id": "faa4076c",
   "metadata": {},
   "outputs": [
    {
     "name": "stdout",
     "output_type": "stream",
     "text": [
      "(785, 1000)\n"
     ]
    }
   ],
   "source": [
    "#wont train on this data, just for testing purposes\n",
    "data_dev = data[0:1000].T # lets take the first 1000 rows and transpose it - so now each column represents one image\n",
    "Y_dev = data_dev[0] #first row\n",
    "X_dev = data_dev[1:n] #disregards the label row and extracts only the pixel data\n",
    "X_dev = X_dev / 225.\n",
    "\n",
    "#the actual training data\n",
    "data_train = data[1000:m].T #rest of the data from the MNIST dataset from 1000th image\n",
    "Y_train = data_train[0]\n",
    "X_train = data_train[1:n]\n",
    "X_train = X_train / 225.\n",
    "_,m_train = X_train.shape\n",
    "\n",
    "print(data_dev.shape)\n"
   ]
  },
  {
   "cell_type": "code",
   "execution_count": 7,
   "id": "0b09b106",
   "metadata": {},
   "outputs": [
    {
     "data": {
      "text/plain": [
       "(784,)"
      ]
     },
     "execution_count": 7,
     "metadata": {},
     "output_type": "execute_result"
    }
   ],
   "source": [
    "X_train[: , 0].shape #: means all rows, and 0 means the first column"
   ]
  },
  {
   "cell_type": "markdown",
   "id": "4dd4becf",
   "metadata": {},
   "source": [
    "now lets initialize all our parameters"
   ]
  },
  {
   "cell_type": "code",
   "execution_count": 8,
   "id": "8c2ffc27",
   "metadata": {},
   "outputs": [],
   "source": [
    "def init_params():\n",
    "    #weights and biases\n",
    "    w1 = np.random.rand(10, 784) - 0.5 #2d numpy array with 10 rows and 784 columns with random values bw 0 and 1\n",
    "    b1 = np.random.rand(10, 1) - 0.5\n",
    "    w2 = np.random.rand(10, 10) - 0.5\n",
    "    b2 = np.random.rand(10, 1) - 0.5\n",
    "    \n",
    "    return w1, b1, w2, b2\n"
   ]
  },
  {
   "cell_type": "markdown",
   "id": "6cbb9807",
   "metadata": {},
   "source": [
    "Now let us make the forward propagation function - which is where we take in an image and get a prediction out of it"
   ]
  },
  {
   "cell_type": "code",
   "execution_count": 9,
   "id": "cf8a8206",
   "metadata": {},
   "outputs": [],
   "source": [
    "def relu(z):\n",
    "    return np.maximum(z,0)\n",
    "   \n",
    "def softmax(z):\n",
    "    return np.exp(z) / sum(np.exp(z))\n",
    "\n",
    "def for_prop(w1, b1, w2, b2, x):\n",
    "    a0 = x\n",
    "    z1 = w1.dot(a0) + b1\n",
    "    a1 = relu(z1)\n",
    "    z2 = w2.dot(a1) + b2\n",
    "    a2 = softmax(z2)\n",
    "    return z1, a1, z2, a2\n"
   ]
  },
  {
   "cell_type": "markdown",
   "id": "442a9c48",
   "metadata": {},
   "source": [
    "Now for backward propagation - which is where we start with our prediction and find out how much it deviated from the label. This will allow us to optimize the weights and biases"
   ]
  },
  {
   "cell_type": "code",
   "execution_count": 10,
   "id": "2e229153",
   "metadata": {},
   "outputs": [],
   "source": [
    "#used in the function back_prop\n",
    "def relu_derivative(z):\n",
    "    return z > 0 #when returning a boolean, false is 0 and true is 1\n",
    "\n",
    "#used in the function back_prop\n",
    "def label_encode(y):\n",
    "    label_y = np.zeros((y.size, y.max() + 1))\n",
    "    label_y[np.arange(y.size), y] = 1\n",
    "    #and then lets flip it\n",
    "    label_y = label_y.T\n",
    "    return label_y\n",
    "\n",
    "def back_prop(z1, a1, z2, a2, w1, w2, x, y): #y is the labels - we need to hot encode it seperately above\n",
    "    label_y = label_encode(y)\n",
    "    dz2 = a2 - label_y\n",
    "    dw2 = (1 / m) * dz2.dot(a1.T)\n",
    "    db2 = (1 / m) * np.sum(dz2)\n",
    "    \n",
    "    dz1 = w2.T.dot(dz2) * relu_derivative(z1)\n",
    "    dw1 = (1 / m) * dz1.dot(x.T)\n",
    "    db1 = (1 / m) * np.sum(dz1)\n",
    "    \n",
    "    return dw1, db1, dw2, db2\n",
    "\n",
    "def update_params(w1, b1, w2, b2, dw1, db1, dw2, db2, alpha):\n",
    "    w1 = w1 - alpha * dw1\n",
    "    b1 = b1 - alpha * db1\n",
    "    w2 = w2 - alpha * dw2\n",
    "    b2 = b2 - alpha * db2\n",
    "    return w1, b1, w2, b2   \n",
    "      "
   ]
  },
  {
   "cell_type": "markdown",
   "id": "bac91216",
   "metadata": {},
   "source": [
    "So now we need some way of actually uses the gradients to update the weights and biases. Without it, the neural networks weights and biases cannot change and the model will not learn. So let us implement gradient descent. the first two functions are going to be something you have to look into"
   ]
  },
  {
   "cell_type": "code",
   "execution_count": 11,
   "id": "33f1cfbe",
   "metadata": {},
   "outputs": [],
   "source": [
    "def get_predictions(a2):\n",
    "    return np.argmax(a2, 0)\n",
    "\n",
    "def get_accuracy(predictions, y):\n",
    "    print(predictions, y)\n",
    "    return np.sum(predictions == y) / y.size\n",
    "\n",
    "\n",
    "def grad_descent(x, y, iter, alpha):\n",
    "    w1, b1, w2, b2 = init_params()\n",
    "    # now we run a loop through the iterations (epoch)\n",
    "    for i in range(iter):\n",
    "        #forward propagation\n",
    "        z1, a1, z2, a2 = for_prop(w1, b1, w2, b2, x)\n",
    "        #backward propagation\n",
    "        dw1, db1, dw2, db2 = back_prop(z1, a1, z2, a2, w1, w2, x, y)\n",
    "        #update the parameters\n",
    "        w1, b1, w2, b2 = update_params(w1, b1, w2, b2, dw1, db1, dw2, db2, alpha)\n",
    "        \n",
    "        if (i % 10 == 0):\n",
    "            print(\"Iteration: \", i)\n",
    "            print('Accuracy: ', get_accuracy(get_predictions(a2), y))\n",
    "    \n",
    "    return w1, b1, w2, b2\n",
    "        "
   ]
  },
  {
   "cell_type": "markdown",
   "id": "e7291faa",
   "metadata": {},
   "source": [
    "Now for the excting part - let's run gradient descent with our trainning data!!"
   ]
  },
  {
   "cell_type": "code",
   "execution_count": 14,
   "id": "c8200c83",
   "metadata": {},
   "outputs": [
    {
     "name": "stdout",
     "output_type": "stream",
     "text": [
      "Iteration:  0\n",
      "[0 4 4 ... 4 4 0] [1 8 6 ... 1 4 1]\n",
      "Accuracy:  0.10086440677966102\n",
      "Iteration:  10\n",
      "[0 8 6 ... 5 0 0] [1 8 6 ... 1 4 1]\n",
      "Accuracy:  0.2013898305084746\n",
      "Iteration:  20\n",
      "[0 8 6 ... 1 4 0] [1 8 6 ... 1 4 1]\n",
      "Accuracy:  0.2930169491525424\n",
      "Iteration:  30\n",
      "[0 8 6 ... 1 8 1] [1 8 6 ... 1 4 1]\n",
      "Accuracy:  0.3771186440677966\n",
      "Iteration:  40\n",
      "[1 8 6 ... 1 8 1] [1 8 6 ... 1 4 1]\n",
      "Accuracy:  0.44177966101694915\n",
      "Iteration:  50\n",
      "[1 8 6 ... 1 8 1] [1 8 6 ... 1 4 1]\n",
      "Accuracy:  0.5022372881355932\n",
      "Iteration:  60\n",
      "[1 8 6 ... 1 8 1] [1 8 6 ... 1 4 1]\n",
      "Accuracy:  0.552322033898305\n",
      "Iteration:  70\n",
      "[1 8 6 ... 1 8 1] [1 8 6 ... 1 4 1]\n",
      "Accuracy:  0.5933728813559322\n",
      "Iteration:  80\n",
      "[1 8 6 ... 1 8 1] [1 8 6 ... 1 4 1]\n",
      "Accuracy:  0.6258983050847458\n",
      "Iteration:  90\n",
      "[1 8 6 ... 1 8 1] [1 8 6 ... 1 4 1]\n",
      "Accuracy:  0.6540169491525424\n",
      "Iteration:  100\n",
      "[1 8 6 ... 1 8 1] [1 8 6 ... 1 4 1]\n",
      "Accuracy:  0.6743898305084746\n",
      "Iteration:  110\n",
      "[1 8 6 ... 1 8 1] [1 8 6 ... 1 4 1]\n",
      "Accuracy:  0.6917627118644067\n",
      "Iteration:  120\n",
      "[1 8 6 ... 1 9 1] [1 8 6 ... 1 4 1]\n",
      "Accuracy:  0.7065762711864407\n",
      "Iteration:  130\n",
      "[1 8 6 ... 1 9 1] [1 8 6 ... 1 4 1]\n",
      "Accuracy:  0.7201186440677966\n",
      "Iteration:  140\n",
      "[1 8 6 ... 1 9 1] [1 8 6 ... 1 4 1]\n",
      "Accuracy:  0.7314915254237289\n",
      "Iteration:  150\n",
      "[1 8 6 ... 1 9 1] [1 8 6 ... 1 4 1]\n",
      "Accuracy:  0.7421186440677966\n",
      "Iteration:  160\n",
      "[1 8 6 ... 1 9 1] [1 8 6 ... 1 4 1]\n",
      "Accuracy:  0.7506101694915254\n",
      "Iteration:  170\n",
      "[1 8 6 ... 1 9 1] [1 8 6 ... 1 4 1]\n",
      "Accuracy:  0.758728813559322\n",
      "Iteration:  180\n",
      "[1 8 6 ... 1 9 1] [1 8 6 ... 1 4 1]\n",
      "Accuracy:  0.7659661016949153\n",
      "Iteration:  190\n",
      "[1 8 6 ... 1 9 1] [1 8 6 ... 1 4 1]\n",
      "Accuracy:  0.7723559322033898\n"
     ]
    }
   ],
   "source": [
    "w1, b1, w2, b2 = grad_descent(X_train, Y_train, 200, 0.1)"
   ]
  },
  {
   "cell_type": "code",
   "execution_count": 13,
   "id": "7d4501b5",
   "metadata": {},
   "outputs": [],
   "source": [
    "def make_predictions(X, W1, b1, W2, b2):\n",
    "    _, _, _, A2 = for_prop(W1, b1, W2, b2, X)\n",
    "    predictions = get_predictions(A2)\n",
    "    return predictions\n",
    "\n",
    "def test_prediction(index, W1, b1, W2, b2):\n",
    "    current_image = X_dev[:, index, None]\n",
    "    prediction = make_predictions(X_dev[:, index, None], W1, b1, W2, b2)\n",
    "    label = Y_dev[index]\n",
    "    print(\"Prediction: \", prediction)\n",
    "    print(\"Label: \", label)\n",
    "    \n",
    "    current_image = current_image.reshape((28, 28)) * 255\n",
    "    plt.gray()\n",
    "    plt.imshow(current_image, interpolation='nearest')\n",
    "    plt.show()"
   ]
  },
  {
   "cell_type": "code",
   "execution_count": 1,
   "id": "444d7330",
   "metadata": {},
   "outputs": [
    {
     "ename": "NameError",
     "evalue": "name 'test_prediction' is not defined",
     "output_type": "error",
     "traceback": [
      "\u001b[0;31m---------------------------------------------------------------------------\u001b[0m",
      "\u001b[0;31mNameError\u001b[0m                                 Traceback (most recent call last)",
      "Cell \u001b[0;32mIn[1], line 1\u001b[0m\n\u001b[0;32m----> 1\u001b[0m test_prediction(\u001b[38;5;241m29\u001b[39m, w1, b1, w2, b2)\n",
      "\u001b[0;31mNameError\u001b[0m: name 'test_prediction' is not defined"
     ]
    }
   ],
   "source": [
    "test_prediction(29, w1, b1, w2, b2)"
   ]
  },
  {
   "cell_type": "code",
   "execution_count": null,
   "id": "43db22a4",
   "metadata": {},
   "outputs": [],
   "source": []
  }
 ],
 "metadata": {
  "kernelspec": {
   "display_name": "base",
   "language": "python",
   "name": "python3"
  },
  "language_info": {
   "codemirror_mode": {
    "name": "ipython",
    "version": 3
   },
   "file_extension": ".py",
   "mimetype": "text/x-python",
   "name": "python",
   "nbconvert_exporter": "python",
   "pygments_lexer": "ipython3",
   "version": "undefined.undefined.undefined"
  }
 },
 "nbformat": 4,
 "nbformat_minor": 5
}
