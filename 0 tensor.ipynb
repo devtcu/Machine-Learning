{
 "cells": [
  {
   "cell_type": "markdown",
   "id": "4acdaf73",
   "metadata": {},
   "source": [
    "Important links:\n",
    "\n",
    "- https://deeplizard.com/learn/video/Csa5R12jYRg\n",
    "- https://deeplizard.com/learn/video/AiyK0idr4uM\n",
    "- https://deeplizard.com/learn/video/k6ZF1TSniYk\n",
    "- https://deeplizard.com/learn/video/jexkKugTg04"
   ]
  },
  {
   "cell_type": "code",
   "execution_count": null,
   "id": "1aa2257e",
   "metadata": {},
   "outputs": [
    {
     "name": "stdout",
     "output_type": "stream",
     "text": [
      "[[1, 2, 3], [4, 5, 6], [7, 8, 9]]\n"
     ]
    }
   ],
   "source": [
    "import numpy as np\n",
    "import torch #an instance of the Tensor class\n",
    "\n",
    "dd = [ \n",
    "    [1,2,3],\n",
    "    [4,5,6],\n",
    "    [7,8,9]\n",
    "]\n",
    "\n",
    "print(dd) "
   ]
  },
  {
   "cell_type": "markdown",
   "id": "d3239597",
   "metadata": {},
   "source": [
    "Lets look at the axes of our tensor "
   ]
  },
  {
   "cell_type": "code",
   "execution_count": 7,
   "id": "af8f0cc8",
   "metadata": {},
   "outputs": [
    {
     "data": {
      "text/plain": [
       "([1, 2, 3], [4, 5, 6], [7, 8, 9])"
      ]
     },
     "execution_count": 7,
     "metadata": {},
     "output_type": "execute_result"
    }
   ],
   "source": [
    "#These are the elements in our first axis - they are each arrays\n",
    "dd[0], dd[1], dd[2]"
   ]
  },
  {
   "cell_type": "markdown",
   "id": "5289a1b2",
   "metadata": {},
   "source": [
    "Below, for all the indices of the last axis (second)\n",
    "you will notice that it will just be a number.\n",
    "The elements for any other axis is always multidimensional arrays"
   ]
  },
  {
   "cell_type": "code",
   "execution_count": 8,
   "id": "6744b341",
   "metadata": {},
   "outputs": [
    {
     "data": {
      "text/plain": [
       "(1, 4, 7)"
      ]
     },
     "execution_count": 8,
     "metadata": {},
     "output_type": "execute_result"
    }
   ],
   "source": [
    "#These are the first index of second axis\n",
    "dd[0][0], dd[1][0], dd[2][0]"
   ]
  },
  {
   "cell_type": "code",
   "execution_count": 9,
   "id": "f42237ad",
   "metadata": {},
   "outputs": [
    {
     "data": {
      "text/plain": [
       "(2, 5, 8)"
      ]
     },
     "execution_count": 9,
     "metadata": {},
     "output_type": "execute_result"
    }
   ],
   "source": [
    "#These are the second index of second axis\n",
    "dd[0][1], dd[1][1], dd[2][1]"
   ]
  },
  {
   "cell_type": "code",
   "execution_count": 21,
   "id": "3bd2f54f",
   "metadata": {},
   "outputs": [
    {
     "data": {
      "text/plain": [
       "(3, 6, 9)"
      ]
     },
     "execution_count": 21,
     "metadata": {},
     "output_type": "execute_result"
    }
   ],
   "source": [
    "#These are the third index of second axis\n",
    "dd[0][2], dd[1][2], dd[2][2]\n"
   ]
  },
  {
   "cell_type": "code",
   "execution_count": 11,
   "id": "843f5cca",
   "metadata": {},
   "outputs": [
    {
     "name": "stdout",
     "output_type": "stream",
     "text": [
      "torch.Size([3, 3])\n",
      "2\n"
     ]
    }
   ],
   "source": [
    "t = torch.Tensor(dd)\n",
    "shape = t.shape\n",
    "rank = len(shape) #The rank of a tensor is the length of a tensor's shape/size (the length of that array)\n",
    "\n",
    "print(shape)\n",
    "print(rank) # a matrix is a tensor of rank 2 - the number of indices needed to identify each element within the tenso"
   ]
  },
  {
   "cell_type": "markdown",
   "id": "44da2e14",
   "metadata": {},
   "source": [
    "We can also reshape tensors - this keeps the underlying data the same but just changes the original 3x3 shape"
   ]
  },
  {
   "cell_type": "code",
   "execution_count": 12,
   "id": "605e4e7d",
   "metadata": {},
   "outputs": [
    {
     "name": "stdout",
     "output_type": "stream",
     "text": [
      "tensor([[1., 2., 3., 4., 5., 6., 7., 8., 9.]])\n"
     ]
    }
   ],
   "source": [
    "reshaped = t.reshape(1,9)\n",
    "print(reshaped) #reshaped tensor"
   ]
  },
  {
   "cell_type": "code",
   "execution_count": 13,
   "id": "0c6b720c",
   "metadata": {},
   "outputs": [
    {
     "data": {
      "text/plain": [
       "2"
      ]
     },
     "execution_count": 13,
     "metadata": {},
     "output_type": "execute_result"
    }
   ],
   "source": [
    "reshaped.shape\n",
    "len(reshaped.shape) #rank of the reshaped tensor\n",
    "\n",
    "#interesting to note that the number of axes (2x2) is the same as the rank (2) for a tensor"
   ]
  },
  {
   "cell_type": "markdown",
   "id": "9b38299c",
   "metadata": {},
   "source": [
    "Example: Now lets see a tensor input to a convolutional neural network (cnn)\n",
    "\n",
    "a tensor input is usually of rank 4 and it is as follows for images and their peixels\n",
    "\n",
    "- [B,C, H, W] where B is batch size, color channel, height, and width\n",
    "\n"
   ]
  },
  {
   "cell_type": "markdown",
   "id": "75d23738",
   "metadata": {},
   "source": [
    "Now lets start again with the Tensor class\n",
    "\n",
    "Tensors in PyTorch arerepresented using the torch.Tensor class\n",
    "\n",
    "We looked at tensors attributes previously (axis, rank, shape). Now we will look at attributes of PyTorch's implementation of tensors"
   ]
  },
  {
   "cell_type": "code",
   "execution_count": 14,
   "id": "75115592",
   "metadata": {},
   "outputs": [
    {
     "name": "stdout",
     "output_type": "stream",
     "text": [
      "torch.float32\n",
      "cpu\n",
      "torch.strided\n"
     ]
    }
   ],
   "source": [
    "t = torch.Tensor() # tensors contain data of a uniform type\n",
    "\n",
    "print(t.dtype) #type of data contained within our tensor. A 32 bit floating point, for examlpe as different on cpu and gpu\n",
    "print(t.device) #where the tensor data is allocated and where the operation will be perfomred\n",
    "print(t.layout)\n"
   ]
  },
  {
   "cell_type": "code",
   "execution_count": 15,
   "id": "50013e3b",
   "metadata": {},
   "outputs": [
    {
     "data": {
      "text/plain": [
       "device(type='cuda', index=0)"
      ]
     },
     "execution_count": 15,
     "metadata": {},
     "output_type": "execute_result"
    }
   ],
   "source": [
    "#pPyTorch supports the use of multiple devices\n",
    "\n",
    "device = torch.device('cuda:0')\n",
    "device"
   ]
  },
  {
   "cell_type": "markdown",
   "id": "5c9a1c11",
   "metadata": {},
   "source": [
    "Now lets try out the different data types"
   ]
  },
  {
   "cell_type": "code",
   "execution_count": 16,
   "id": "29c4e2b2",
   "metadata": {},
   "outputs": [],
   "source": [
    "t1 = torch.tensor([1,2,3])\n",
    "t2 = torch.tensor([1.,2.,3.])"
   ]
  },
  {
   "cell_type": "code",
   "execution_count": 17,
   "id": "c1756a7e",
   "metadata": {},
   "outputs": [
    {
     "name": "stdout",
     "output_type": "stream",
     "text": [
      "torch.int64\n",
      "torch.float32\n"
     ]
    }
   ],
   "source": [
    "print(t1.dtype)\n",
    "print(t2.dtype)"
   ]
  },
  {
   "cell_type": "markdown",
   "id": "551bf3f1",
   "metadata": {},
   "source": [
    "Let's see what happens when we add with two different data types (it gets typecasted to a float)"
   ]
  },
  {
   "cell_type": "code",
   "execution_count": 18,
   "id": "c54bd943",
   "metadata": {},
   "outputs": [
    {
     "data": {
      "text/plain": [
       "tensor([2., 4., 6.])"
      ]
     },
     "execution_count": 18,
     "metadata": {},
     "output_type": "execute_result"
    }
   ],
   "source": [
    "t1 + t2"
   ]
  },
  {
   "cell_type": "markdown",
   "id": "8555ca5f",
   "metadata": {},
   "source": [
    "Now lets see what happens when we add two tensors on different devices"
   ]
  },
  {
   "cell_type": "code",
   "execution_count": 19,
   "id": "e195af56",
   "metadata": {},
   "outputs": [
    {
     "name": "stdout",
     "output_type": "stream",
     "text": [
      "cpu\n",
      "cuda:0\n"
     ]
    },
    {
     "ename": "TypeError",
     "evalue": "unsupported operand type(s) for +: 'Tensor' and 'torch.device'",
     "output_type": "error",
     "traceback": [
      "\u001b[0;31m---------------------------------------------------------------------------\u001b[0m",
      "\u001b[0;31mTypeError\u001b[0m                                 Traceback (most recent call last)",
      "Cell \u001b[0;32mIn[19], line 7\u001b[0m\n\u001b[1;32m      4\u001b[0m \u001b[38;5;28mprint\u001b[39m(t1\u001b[38;5;241m.\u001b[39mdevice)\n\u001b[1;32m      5\u001b[0m \u001b[38;5;28mprint\u001b[39m(t2)\n\u001b[0;32m----> 7\u001b[0m \u001b[38;5;28mprint\u001b[39m(t1 \u001b[38;5;241m+\u001b[39m t2)\n",
      "\u001b[0;31mTypeError\u001b[0m: unsupported operand type(s) for +: 'Tensor' and 'torch.device'"
     ]
    }
   ],
   "source": [
    "t1 = torch.tensor([1,2,3])\n",
    "t2 = torch.device('cuda:0')\n",
    "\n",
    "print(t1.device)\n",
    "print(t2)\n",
    "\n",
    "print(t1 + t2) #does not compile"
   ]
  },
  {
   "cell_type": "markdown",
   "id": "b13e77b7",
   "metadata": {},
   "source": [
    "Lets look at some examples of creating tensors from data"
   ]
  },
  {
   "cell_type": "code",
   "execution_count": null,
   "id": "beb405bf",
   "metadata": {},
   "outputs": [
    {
     "data": {
      "text/plain": [
       "numpy.ndarray"
      ]
     },
     "execution_count": 44,
     "metadata": {},
     "output_type": "execute_result"
    }
   ],
   "source": [
    "data = np.array([1,2,3])\n",
    "type(data)"
   ]
  },
  {
   "cell_type": "code",
   "execution_count": null,
   "id": "bbd7a4c8",
   "metadata": {},
   "outputs": [
    {
     "data": {
      "text/plain": [
       "tensor([1., 2., 3.])"
      ]
     },
     "execution_count": 45,
     "metadata": {},
     "output_type": "execute_result"
    }
   ],
   "source": [
    "torch.Tensor(data)"
   ]
  },
  {
   "cell_type": "code",
   "execution_count": null,
   "id": "19c84d6b",
   "metadata": {},
   "outputs": [
    {
     "data": {
      "text/plain": [
       "tensor([1, 2, 3])"
      ]
     },
     "execution_count": 46,
     "metadata": {},
     "output_type": "execute_result"
    }
   ],
   "source": [
    "torch.tensor(data)"
   ]
  },
  {
   "cell_type": "code",
   "execution_count": null,
   "id": "f24ea01c",
   "metadata": {},
   "outputs": [
    {
     "data": {
      "text/plain": [
       "tensor([1, 2, 3])"
      ]
     },
     "execution_count": 47,
     "metadata": {},
     "output_type": "execute_result"
    }
   ],
   "source": [
    "torch.as_tensor(data)"
   ]
  },
  {
   "cell_type": "code",
   "execution_count": null,
   "id": "49997495",
   "metadata": {},
   "outputs": [
    {
     "data": {
      "text/plain": [
       "tensor([1, 2, 3])"
      ]
     },
     "execution_count": 48,
     "metadata": {},
     "output_type": "execute_result"
    }
   ],
   "source": [
    "torch.from_numpy(data)"
   ]
  },
  {
   "cell_type": "code",
   "execution_count": null,
   "id": "0190330e",
   "metadata": {},
   "outputs": [
    {
     "name": "stdout",
     "output_type": "stream",
     "text": [
      "tensor([[1., 0., 0.],\n",
      "        [0., 1., 0.],\n",
      "        [0., 0., 1.]])\n",
      "torch.Size([3, 3])\n",
      "The rank of this tensor is 2\n"
     ]
    }
   ],
   "source": [
    "#identity tensor\n",
    "print(torch.eye(3))\n",
    "print(torch.eye(3).shape)\n",
    "print('The rank of this tensor is', len(torch.eye(3).shape))"
   ]
  },
  {
   "cell_type": "code",
   "execution_count": null,
   "id": "940f861d",
   "metadata": {},
   "outputs": [
    {
     "data": {
      "text/plain": [
       "tensor([[0., 0.],\n",
       "        [0., 0.]])"
      ]
     },
     "execution_count": 61,
     "metadata": {},
     "output_type": "execute_result"
    }
   ],
   "source": [
    "torch.zeros(2,2)"
   ]
  },
  {
   "cell_type": "code",
   "execution_count": null,
   "id": "93f875f4",
   "metadata": {},
   "outputs": [
    {
     "data": {
      "text/plain": [
       "tensor([[1., 1.],\n",
       "        [1., 1.]])"
      ]
     },
     "execution_count": 62,
     "metadata": {},
     "output_type": "execute_result"
    }
   ],
   "source": [
    "torch.ones(2,2)"
   ]
  },
  {
   "cell_type": "code",
   "execution_count": null,
   "id": "c5c71a68",
   "metadata": {},
   "outputs": [
    {
     "data": {
      "text/plain": [
       "tensor([[0.7561, 0.4538],\n",
       "        [0.3568, 0.3286]])"
      ]
     },
     "execution_count": 63,
     "metadata": {},
     "output_type": "execute_result"
    }
   ],
   "source": [
    "torch.rand(2,2)"
   ]
  },
  {
   "cell_type": "markdown",
   "id": "1b976ea6",
   "metadata": {},
   "source": [
    "Now Let us try using tensorflow"
   ]
  },
  {
   "cell_type": "markdown",
   "id": "ade22fb7",
   "metadata": {},
   "source": []
  },
  {
   "cell_type": "code",
   "execution_count": 5,
   "id": "51f4c28f",
   "metadata": {},
   "outputs": [
    {
     "name": "stdout",
     "output_type": "stream",
     "text": [
      "<dtype: 'string'>\n"
     ]
    }
   ],
   "source": [
    "import tensorflow as tf\n",
    "\n",
    "rank1_tensor = tf.Variable([\"Test\", \"ok\", \"Dev\"], tf.string)\n",
    "rank2_tensor = tf.Variable([[\"Test\", \"ok\", \"hi\"], [\"test\", \"dev\", \"bye\"]])\n",
    "print(rank2_tensor.dtype)\n",
    "\n"
   ]
  },
  {
   "cell_type": "code",
   "execution_count": null,
   "id": "91b11aa0",
   "metadata": {},
   "outputs": [
    {
     "data": {
      "text/plain": [
       "TensorShape([2, 3])"
      ]
     },
     "execution_count": 9,
     "metadata": {},
     "output_type": "execute_result"
    }
   ],
   "source": [
    "tf.rank(rank2_tensor)\n",
    "\n"
   ]
  },
  {
   "cell_type": "code",
   "execution_count": null,
   "id": "3597b116",
   "metadata": {},
   "outputs": [
    {
     "data": {
      "text/plain": [
       "TensorShape([2, 3])"
      ]
     },
     "execution_count": 10,
     "metadata": {},
     "output_type": "execute_result"
    }
   ],
   "source": [
    "rank2_tensor.shape #2 lists and each of those have 3 elemnts in them "
   ]
  },
  {
   "cell_type": "code",
   "execution_count": 11,
   "id": "54d8c058",
   "metadata": {},
   "outputs": [
    {
     "name": "stdout",
     "output_type": "stream",
     "text": [
      "2\n"
     ]
    }
   ],
   "source": [
    "rank = len(rank2_tensor.shape)\n",
    "print(rank)"
   ]
  },
  {
   "cell_type": "markdown",
   "id": "c822c4c9",
   "metadata": {},
   "source": [
    "Now let us look at reshaping of tensors"
   ]
  },
  {
   "cell_type": "code",
   "execution_count": 16,
   "id": "a36c803a",
   "metadata": {},
   "outputs": [
    {
     "name": "stdout",
     "output_type": "stream",
     "text": [
      "tf.Tensor(\n",
      "[[[1.]\n",
      "  [1.]\n",
      "  [1.]]\n",
      "\n",
      " [[1.]\n",
      "  [1.]\n",
      "  [1.]]], shape=(2, 3, 1), dtype=float32)\n"
     ]
    }
   ],
   "source": [
    "tensor1 = tf.ones([2,3,1])\n",
    "print(tensor1)"
   ]
  },
  {
   "cell_type": "code",
   "execution_count": 19,
   "id": "cff07429",
   "metadata": {},
   "outputs": [
    {
     "name": "stdout",
     "output_type": "stream",
     "text": [
      "tf.Tensor(\n",
      "[[[1. 1. 1.]\n",
      "  [1. 1. 1.]]], shape=(1, 2, 3), dtype=float32)\n"
     ]
    }
   ],
   "source": [
    "tensor2 = tf.reshape(tensor1, [1,2,3])\n",
    "print(tensor2)"
   ]
  },
  {
   "cell_type": "code",
   "execution_count": 22,
   "id": "5b531a35",
   "metadata": {},
   "outputs": [
    {
     "name": "stdout",
     "output_type": "stream",
     "text": [
      "tf.Tensor(\n",
      "[[1. 1.]\n",
      " [1. 1.]\n",
      " [1. 1.]], shape=(3, 2), dtype=float32)\n"
     ]
    }
   ],
   "source": [
    "tensor3 = tf.reshape(tensor2, [3,-1]) #-1 tells the tensor to calculate the dimension that it has to be based on the first argument - so it'll be [3,2]\n",
    "print(tensor3)"
   ]
  },
  {
   "cell_type": "code",
   "execution_count": null,
   "id": "763f514b",
   "metadata": {},
   "outputs": [],
   "source": []
  }
 ],
 "metadata": {
  "kernelspec": {
   "display_name": "base",
   "language": "python",
   "name": "python3"
  },
  "language_info": {
   "codemirror_mode": {
    "name": "ipython",
    "version": 3
   },
   "file_extension": ".py",
   "mimetype": "text/x-python",
   "name": "python",
   "nbconvert_exporter": "python",
   "pygments_lexer": "ipython3",
   "version": "3.11.4"
  }
 },
 "nbformat": 4,
 "nbformat_minor": 5
}
